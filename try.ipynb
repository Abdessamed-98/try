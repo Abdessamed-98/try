{
 "cells": [
  {
   "cell_type": "code",
   "execution_count": 2,
   "metadata": {},
   "outputs": [
    {
     "name": "stderr",
     "output_type": "stream",
     "text": [
      "/opt/conda/lib/python3.7/site-packages/tensorflow/python/framework/dtypes.py:526: FutureWarning: Passing (type, 1) or '1type' as a synonym of type is deprecated; in a future version of numpy, it will be understood as (type, (1,)) / '(1,)type'.\n",
      "  _np_qint8 = np.dtype([(\"qint8\", np.int8, 1)])\n",
      "/opt/conda/lib/python3.7/site-packages/tensorflow/python/framework/dtypes.py:527: FutureWarning: Passing (type, 1) or '1type' as a synonym of type is deprecated; in a future version of numpy, it will be understood as (type, (1,)) / '(1,)type'.\n",
      "  _np_quint8 = np.dtype([(\"quint8\", np.uint8, 1)])\n",
      "/opt/conda/lib/python3.7/site-packages/tensorflow/python/framework/dtypes.py:528: FutureWarning: Passing (type, 1) or '1type' as a synonym of type is deprecated; in a future version of numpy, it will be understood as (type, (1,)) / '(1,)type'.\n",
      "  _np_qint16 = np.dtype([(\"qint16\", np.int16, 1)])\n",
      "/opt/conda/lib/python3.7/site-packages/tensorflow/python/framework/dtypes.py:529: FutureWarning: Passing (type, 1) or '1type' as a synonym of type is deprecated; in a future version of numpy, it will be understood as (type, (1,)) / '(1,)type'.\n",
      "  _np_quint16 = np.dtype([(\"quint16\", np.uint16, 1)])\n",
      "/opt/conda/lib/python3.7/site-packages/tensorflow/python/framework/dtypes.py:530: FutureWarning: Passing (type, 1) or '1type' as a synonym of type is deprecated; in a future version of numpy, it will be understood as (type, (1,)) / '(1,)type'.\n",
      "  _np_qint32 = np.dtype([(\"qint32\", np.int32, 1)])\n",
      "/opt/conda/lib/python3.7/site-packages/tensorflow/python/framework/dtypes.py:535: FutureWarning: Passing (type, 1) or '1type' as a synonym of type is deprecated; in a future version of numpy, it will be understood as (type, (1,)) / '(1,)type'.\n",
      "  np_resource = np.dtype([(\"resource\", np.ubyte, 1)])\n"
     ]
    }
   ],
   "source": [
    "import pandas as pd\n",
    "import tensorflow as tf"
   ]
  },
  {
   "cell_type": "code",
   "execution_count": 3,
   "metadata": {},
   "outputs": [],
   "source": [
    "train=pd.read_csv(\"/datasets/quora/train.csv\")"
   ]
  },
  {
   "cell_type": "code",
   "execution_count": 4,
   "metadata": {},
   "outputs": [],
   "source": [
    "import re\n",
    "from nltk.corpus import stopwords \n",
    "from nltk.tokenize import word_tokenize \n",
    "\n",
    "stops = set(stopwords.words('english'))\n",
    "\n",
    "def text_clean(text):\n",
    "    ''' Pre process and convert texts to a list of words '''\n",
    "    text = str(text)\n",
    "    text = text.lower()\n",
    "\n",
    "    # Clean the text\n",
    "    text = re.sub(r\"[^A-Za-z0-9^,!.\\/'+-=]\", \" \", text)\n",
    "    text = re.sub(r\"what's\", \"what is \", text)\n",
    "    text = re.sub(r\"\\'s\", \" \", text)\n",
    "    text = re.sub(r\"\\'ve\", \" have \", text)\n",
    "    text = re.sub(r\"can't\", \"cannot \", text)\n",
    "    text = re.sub(r\"n't\", \" not \", text)\n",
    "    text = re.sub(r\"i'm\", \"i am \", text)\n",
    "    text = re.sub(r\"\\'re\", \" are \", text)\n",
    "    text = re.sub(r\"\\'d\", \" would \", text)\n",
    "    text = re.sub(r\"\\'ll\", \" will \", text)\n",
    "    text = re.sub(r\",\", \" \", text)\n",
    "    text = re.sub(r\"\\.\", \" \", text)\n",
    "    text = re.sub(r\"!\", \" ! \", text)\n",
    "    text = re.sub(r\"\\/\", \" \", text)\n",
    "    text = re.sub(r\"\\^\", \" ^ \", text)\n",
    "    text = re.sub(r\"\\+\", \" + \", text)\n",
    "    text = re.sub(r\"\\-\", \" - \", text)\n",
    "    text = re.sub(r\"\\=\", \" = \", text)\n",
    "    text = re.sub(r\"'\", \" \", text)\n",
    "    text = re.sub(r\"(\\d+)(k)\", r\"\\g<1>000\", text)\n",
    "    text = re.sub(r\":\", \" : \", text)\n",
    "    text = re.sub(r\" e g \", \" eg \", text)\n",
    "    text = re.sub(r\" b g \", \" bg \", text)\n",
    "    text = re.sub(r\" u s \", \" american \", text)\n",
    "    text = re.sub(r\"\\0s\", \"0\", text)\n",
    "    text = re.sub(r\" 9 11 \", \"911\", text)\n",
    "    text = re.sub(r\"e - mail\", \"email\", text)\n",
    "    text = re.sub(r\"j k\", \"jk\", text)\n",
    "    text = re.sub(r\"\\s{2,}\", \" \", text)\n",
    "\n",
    "   \n",
    "\n",
    "    return text"
   ]
  },
  {
   "cell_type": "code",
   "execution_count": 5,
   "metadata": {},
   "outputs": [],
   "source": [
    "#preprocessing\n",
    "\n",
    "train['cleaned_question1']=train['question1'].apply(lambda x:text_clean(x))\n",
    "train['cleaned_question2']=train['question2'].apply(lambda x:text_clean(x))"
   ]
  },
  {
   "cell_type": "code",
   "execution_count": 6,
   "metadata": {},
   "outputs": [
    {
     "data": {
      "text/html": [
       "<div>\n",
       "<style scoped>\n",
       "    .dataframe tbody tr th:only-of-type {\n",
       "        vertical-align: middle;\n",
       "    }\n",
       "\n",
       "    .dataframe tbody tr th {\n",
       "        vertical-align: top;\n",
       "    }\n",
       "\n",
       "    .dataframe thead th {\n",
       "        text-align: right;\n",
       "    }\n",
       "</style>\n",
       "<table border=\"1\" class=\"dataframe\">\n",
       "  <thead>\n",
       "    <tr style=\"text-align: right;\">\n",
       "      <th></th>\n",
       "      <th>id</th>\n",
       "      <th>qid1</th>\n",
       "      <th>qid2</th>\n",
       "      <th>question1</th>\n",
       "      <th>question2</th>\n",
       "      <th>is_duplicate</th>\n",
       "      <th>cleaned_question1</th>\n",
       "      <th>cleaned_question2</th>\n",
       "    </tr>\n",
       "  </thead>\n",
       "  <tbody>\n",
       "    <tr>\n",
       "      <th>0</th>\n",
       "      <td>0</td>\n",
       "      <td>1</td>\n",
       "      <td>2</td>\n",
       "      <td>What is the step by step guide to invest in sh...</td>\n",
       "      <td>What is the step by step guide to invest in sh...</td>\n",
       "      <td>0</td>\n",
       "      <td>what is the step by step guide to invest in sh...</td>\n",
       "      <td>what is the step by step guide to invest in sh...</td>\n",
       "    </tr>\n",
       "    <tr>\n",
       "      <th>1</th>\n",
       "      <td>1</td>\n",
       "      <td>3</td>\n",
       "      <td>4</td>\n",
       "      <td>What is the story of Kohinoor (Koh-i-Noor) Dia...</td>\n",
       "      <td>What would happen if the Indian government sto...</td>\n",
       "      <td>0</td>\n",
       "      <td>what is the story of kohinoor koh - i - noor d...</td>\n",
       "      <td>what would happen if the indian government sto...</td>\n",
       "    </tr>\n",
       "    <tr>\n",
       "      <th>2</th>\n",
       "      <td>2</td>\n",
       "      <td>5</td>\n",
       "      <td>6</td>\n",
       "      <td>How can I increase the speed of my internet co...</td>\n",
       "      <td>How can Internet speed be increased by hacking...</td>\n",
       "      <td>0</td>\n",
       "      <td>how can i increase the speed of my internet co...</td>\n",
       "      <td>how can internet speed be increased by hacking...</td>\n",
       "    </tr>\n",
       "    <tr>\n",
       "      <th>3</th>\n",
       "      <td>3</td>\n",
       "      <td>7</td>\n",
       "      <td>8</td>\n",
       "      <td>Why am I mentally very lonely? How can I solve...</td>\n",
       "      <td>Find the remainder when [math]23^{24}[/math] i...</td>\n",
       "      <td>0</td>\n",
       "      <td>why am i mentally very lonely how can i solve it</td>\n",
       "      <td>find the remainder when math 23 ^ 24 math is d...</td>\n",
       "    </tr>\n",
       "    <tr>\n",
       "      <th>4</th>\n",
       "      <td>4</td>\n",
       "      <td>9</td>\n",
       "      <td>10</td>\n",
       "      <td>Which one dissolve in water quikly sugar, salt...</td>\n",
       "      <td>Which fish would survive in salt water?</td>\n",
       "      <td>0</td>\n",
       "      <td>which one dissolve in water quikly sugar salt ...</td>\n",
       "      <td>which fish would survive in salt water</td>\n",
       "    </tr>\n",
       "    <tr>\n",
       "      <th>...</th>\n",
       "      <td>...</td>\n",
       "      <td>...</td>\n",
       "      <td>...</td>\n",
       "      <td>...</td>\n",
       "      <td>...</td>\n",
       "      <td>...</td>\n",
       "      <td>...</td>\n",
       "      <td>...</td>\n",
       "    </tr>\n",
       "    <tr>\n",
       "      <th>9995</th>\n",
       "      <td>9995</td>\n",
       "      <td>19958</td>\n",
       "      <td>19959</td>\n",
       "      <td>How would you order these four cities (Bangalo...</td>\n",
       "      <td>What is the cost of living in Europe and the U...</td>\n",
       "      <td>0</td>\n",
       "      <td>how would you order these four cities bangalor...</td>\n",
       "      <td>what is the cost of living in europe and the u...</td>\n",
       "    </tr>\n",
       "    <tr>\n",
       "      <th>9996</th>\n",
       "      <td>9996</td>\n",
       "      <td>19960</td>\n",
       "      <td>19961</td>\n",
       "      <td>Stphen william hawking?</td>\n",
       "      <td>What are the differences between SM, YG and JY...</td>\n",
       "      <td>0</td>\n",
       "      <td>stphen william hawking</td>\n",
       "      <td>what are the differences between sm yg and jyp...</td>\n",
       "    </tr>\n",
       "    <tr>\n",
       "      <th>9997</th>\n",
       "      <td>9997</td>\n",
       "      <td>19962</td>\n",
       "      <td>19963</td>\n",
       "      <td>Mathematical Puzzles: What is () + () + () = 3...</td>\n",
       "      <td>What are the steps to solve this equation: [ma...</td>\n",
       "      <td>0</td>\n",
       "      <td>mathematical puzzles : what is + + = 30 using ...</td>\n",
       "      <td>what are the steps to solve this equation : ma...</td>\n",
       "    </tr>\n",
       "    <tr>\n",
       "      <th>9998</th>\n",
       "      <td>9998</td>\n",
       "      <td>19964</td>\n",
       "      <td>19965</td>\n",
       "      <td>Is IMS noida good for BCA?</td>\n",
       "      <td>How good is IMS Noida for studying BCA?</td>\n",
       "      <td>1</td>\n",
       "      <td>is ims noida good for bca</td>\n",
       "      <td>how good is ims noida for studying bca</td>\n",
       "    </tr>\n",
       "    <tr>\n",
       "      <th>9999</th>\n",
       "      <td>9999</td>\n",
       "      <td>19966</td>\n",
       "      <td>19967</td>\n",
       "      <td>What are the most respected and informative te...</td>\n",
       "      <td>What are Caltech's required and recommended te...</td>\n",
       "      <td>0</td>\n",
       "      <td>what are the most respected and informative te...</td>\n",
       "      <td>what are caltech required and recommended text...</td>\n",
       "    </tr>\n",
       "  </tbody>\n",
       "</table>\n",
       "<p>10000 rows × 8 columns</p>\n",
       "</div>"
      ],
      "text/plain": [
       "        id   qid1   qid2                                          question1  \\\n",
       "0        0      1      2  What is the step by step guide to invest in sh...   \n",
       "1        1      3      4  What is the story of Kohinoor (Koh-i-Noor) Dia...   \n",
       "2        2      5      6  How can I increase the speed of my internet co...   \n",
       "3        3      7      8  Why am I mentally very lonely? How can I solve...   \n",
       "4        4      9     10  Which one dissolve in water quikly sugar, salt...   \n",
       "...    ...    ...    ...                                                ...   \n",
       "9995  9995  19958  19959  How would you order these four cities (Bangalo...   \n",
       "9996  9996  19960  19961                            Stphen william hawking?   \n",
       "9997  9997  19962  19963  Mathematical Puzzles: What is () + () + () = 3...   \n",
       "9998  9998  19964  19965                         Is IMS noida good for BCA?   \n",
       "9999  9999  19966  19967  What are the most respected and informative te...   \n",
       "\n",
       "                                              question2  is_duplicate  \\\n",
       "0     What is the step by step guide to invest in sh...             0   \n",
       "1     What would happen if the Indian government sto...             0   \n",
       "2     How can Internet speed be increased by hacking...             0   \n",
       "3     Find the remainder when [math]23^{24}[/math] i...             0   \n",
       "4               Which fish would survive in salt water?             0   \n",
       "...                                                 ...           ...   \n",
       "9995  What is the cost of living in Europe and the U...             0   \n",
       "9996  What are the differences between SM, YG and JY...             0   \n",
       "9997  What are the steps to solve this equation: [ma...             0   \n",
       "9998            How good is IMS Noida for studying BCA?             1   \n",
       "9999  What are Caltech's required and recommended te...             0   \n",
       "\n",
       "                                      cleaned_question1  \\\n",
       "0     what is the step by step guide to invest in sh...   \n",
       "1     what is the story of kohinoor koh - i - noor d...   \n",
       "2     how can i increase the speed of my internet co...   \n",
       "3     why am i mentally very lonely how can i solve it    \n",
       "4     which one dissolve in water quikly sugar salt ...   \n",
       "...                                                 ...   \n",
       "9995  how would you order these four cities bangalor...   \n",
       "9996                            stphen william hawking    \n",
       "9997  mathematical puzzles : what is + + = 30 using ...   \n",
       "9998                         is ims noida good for bca    \n",
       "9999  what are the most respected and informative te...   \n",
       "\n",
       "                                      cleaned_question2  \n",
       "0     what is the step by step guide to invest in sh...  \n",
       "1     what would happen if the indian government sto...  \n",
       "2     how can internet speed be increased by hacking...  \n",
       "3     find the remainder when math 23 ^ 24 math is d...  \n",
       "4               which fish would survive in salt water   \n",
       "...                                                 ...  \n",
       "9995  what is the cost of living in europe and the u...  \n",
       "9996  what are the differences between sm yg and jyp...  \n",
       "9997  what are the steps to solve this equation : ma...  \n",
       "9998            how good is ims noida for studying bca   \n",
       "9999  what are caltech required and recommended text...  \n",
       "\n",
       "[10000 rows x 8 columns]"
      ]
     },
     "execution_count": 6,
     "metadata": {},
     "output_type": "execute_result"
    }
   ],
   "source": [
    "train"
   ]
  },
  {
   "cell_type": "code",
   "execution_count": 7,
   "metadata": {},
   "outputs": [
    {
     "data": {
      "text/plain": [
       "10000"
      ]
     },
     "execution_count": 7,
     "metadata": {},
     "output_type": "execute_result"
    }
   ],
   "source": [
    "len(train)"
   ]
  },
  {
   "cell_type": "code",
   "execution_count": 8,
   "metadata": {},
   "outputs": [
    {
     "data": {
      "text/html": [
       "<div>\n",
       "<style scoped>\n",
       "    .dataframe tbody tr th:only-of-type {\n",
       "        vertical-align: middle;\n",
       "    }\n",
       "\n",
       "    .dataframe tbody tr th {\n",
       "        vertical-align: top;\n",
       "    }\n",
       "\n",
       "    .dataframe thead th {\n",
       "        text-align: right;\n",
       "    }\n",
       "</style>\n",
       "<table border=\"1\" class=\"dataframe\">\n",
       "  <thead>\n",
       "    <tr style=\"text-align: right;\">\n",
       "      <th></th>\n",
       "      <th>id</th>\n",
       "      <th>qid1</th>\n",
       "      <th>qid2</th>\n",
       "      <th>question1</th>\n",
       "      <th>question2</th>\n",
       "      <th>is_duplicate</th>\n",
       "      <th>cleaned_question1</th>\n",
       "      <th>cleaned_question2</th>\n",
       "    </tr>\n",
       "  </thead>\n",
       "  <tbody>\n",
       "  </tbody>\n",
       "</table>\n",
       "</div>"
      ],
      "text/plain": [
       "Empty DataFrame\n",
       "Columns: [id, qid1, qid2, question1, question2, is_duplicate, cleaned_question1, cleaned_question2]\n",
       "Index: []"
      ]
     },
     "execution_count": 8,
     "metadata": {},
     "output_type": "execute_result"
    }
   ],
   "source": [
    "train[train.isnull().any(axis=1)]"
   ]
  },
  {
   "cell_type": "code",
   "execution_count": 9,
   "metadata": {},
   "outputs": [],
   "source": [
    "train.drop(train[train.isnull().any(axis=1)].index,inplace=True)"
   ]
  },
  {
   "cell_type": "code",
   "execution_count": 10,
   "metadata": {},
   "outputs": [],
   "source": [
    "train['len_q1']=train['cleaned_question1'].apply(lambda x:len(x.split()))"
   ]
  },
  {
   "cell_type": "code",
   "execution_count": 11,
   "metadata": {},
   "outputs": [],
   "source": [
    "train['len_q2']=train['cleaned_question2'].apply(lambda x:len(x.split()))"
   ]
  },
  {
   "cell_type": "code",
   "execution_count": 12,
   "metadata": {},
   "outputs": [],
   "source": [
    "train=train[(train['len_q1']<=10) & (train['len_q2']<=10)]\n",
    "train=train[(train['len_q1']>=2) & (train['len_q2']>=2)]"
   ]
  },
  {
   "cell_type": "code",
   "execution_count": 13,
   "metadata": {},
   "outputs": [
    {
     "data": {
      "text/plain": [
       "4340"
      ]
     },
     "execution_count": 13,
     "metadata": {},
     "output_type": "execute_result"
    }
   ],
   "source": [
    "len(train)"
   ]
  },
  {
   "cell_type": "code",
   "execution_count": 14,
   "metadata": {},
   "outputs": [],
   "source": [
    "# I loaded a word2vec model I trainded before\n",
    "from gensim.models import word2vec\n",
    "model = word2vec.Word2Vec.load('modelw2v.bin')"
   ]
  },
  {
   "cell_type": "code",
   "execution_count": 15,
   "metadata": {},
   "outputs": [
    {
     "name": "stderr",
     "output_type": "stream",
     "text": [
      "/opt/conda/lib/python3.7/site-packages/ipykernel_launcher.py:1: DeprecationWarning: Call to deprecated `__getitem__` (Method will be removed in 4.0.0, use self.wv.__getitem__() instead).\n",
      "  \"\"\"Entry point for launching an IPython kernel.\n"
     ]
    },
    {
     "data": {
      "text/plain": [
       "array([-0.276489  , -1.1192237 ,  0.2196453 ,  1.7379395 , -1.0473891 ,\n",
       "        1.3778062 ,  1.5977839 , -1.291603  ,  2.4465632 , -0.67652386],\n",
       "      dtype=float32)"
      ]
     },
     "execution_count": 15,
     "metadata": {},
     "output_type": "execute_result"
    }
   ],
   "source": [
    "model['dress']"
   ]
  },
  {
   "cell_type": "code",
   "execution_count": 16,
   "metadata": {},
   "outputs": [],
   "source": [
    "import numpy as np\n",
    "np.random.seed(0)\n",
    "unk = list(np.random.uniform(low=-1.0, high=1.0, size=(50,)))\n",
    "pad= list(np.zeros(10,dtype=float))"
   ]
  },
  {
   "cell_type": "code",
   "execution_count": 17,
   "metadata": {},
   "outputs": [],
   "source": [
    "max_len_q1=12"
   ]
  },
  {
   "cell_type": "code",
   "execution_count": 18,
   "metadata": {},
   "outputs": [],
   "source": [
    "from nltk.tokenize import word_tokenize\n",
    "\n",
    "def sentence_embeddings(reviews):\n",
    "    words=word_tokenize(reviews)\n",
    "    words=[word.lower() for word in words]\n",
    "    vec_sen=[list(model.wv[word]) if word in model else unk for word in words]\n",
    "    if len(vec_sen)<max_len_q1:\n",
    "        num_pads=max_len_q1-len(vec_sen)\n",
    "        added_pads=[pad]*num_pads\n",
    "        added_pads.extend(vec_sen) \n",
    "        vec_sen = added_pads\n",
    "    else:\n",
    "        vec_sen=vec_sen[0:max_len_q1]\n",
    "         \n",
    "        \n",
    "    return (vec_sen)"
   ]
  },
  {
   "cell_type": "code",
   "execution_count": 19,
   "metadata": {},
   "outputs": [
    {
     "name": "stderr",
     "output_type": "stream",
     "text": [
      "/opt/conda/lib/python3.7/site-packages/ipykernel_launcher.py:6: DeprecationWarning: Call to deprecated `__contains__` (Method will be removed in 4.0.0, use self.wv.__contains__() instead).\n",
      "  \n"
     ]
    }
   ],
   "source": [
    "train['que1_word_embeddings']=train['cleaned_question1'].apply(lambda x:sentence_embeddings(x))\n",
    "train['que2_word_embeddings']=train['cleaned_question2'].apply(lambda x:sentence_embeddings(x))"
   ]
  },
  {
   "cell_type": "code",
   "execution_count": 20,
   "metadata": {},
   "outputs": [
    {
     "data": {
      "text/plain": [
       "[[0.018904233,\n",
       "  -0.04833511,\n",
       "  -0.03331818,\n",
       "  -0.04945109,\n",
       "  0.034156643,\n",
       "  0.04550592,\n",
       "  -0.02724745,\n",
       "  -0.0015758828,\n",
       "  0.005697018,\n",
       "  -0.017433632],\n",
       " [-0.021839188,\n",
       "  0.0071893185,\n",
       "  -0.017453326,\n",
       "  -0.092936255,\n",
       "  -0.007841767,\n",
       "  0.066348635,\n",
       "  -0.018284034,\n",
       "  -0.014559846,\n",
       "  0.13965276,\n",
       "  -0.00056398276],\n",
       " [-0.88767916,\n",
       "  0.43519303,\n",
       "  -0.5846174,\n",
       "  -0.3245479,\n",
       "  1.022413,\n",
       "  -0.01982247,\n",
       "  0.54806775,\n",
       "  -0.35893792,\n",
       "  0.4813398,\n",
       "  -0.8173237],\n",
       " [7.0819325,\n",
       "  -3.1181,\n",
       "  -1.0959215,\n",
       "  0.85837334,\n",
       "  2.8663573,\n",
       "  1.2590959,\n",
       "  -2.7949078,\n",
       "  -3.8984432,\n",
       "  1.04552,\n",
       "  3.6199145],\n",
       " [-2.740496,\n",
       "  -1.370148,\n",
       "  -3.5432966,\n",
       "  3.1200476,\n",
       "  -1.0892531,\n",
       "  -0.79128045,\n",
       "  -2.3890314,\n",
       "  -2.4094787,\n",
       "  5.6043506,\n",
       "  7.4646225],\n",
       " [8.81114,\n",
       "  -4.317963,\n",
       "  -0.87733376,\n",
       "  0.46944082,\n",
       "  3.115778,\n",
       "  4.104798,\n",
       "  -1.7921623,\n",
       "  -1.5562128,\n",
       "  2.4739816,\n",
       "  2.740898],\n",
       " [8.527775,\n",
       "  0.7097803,\n",
       "  -2.435262,\n",
       "  2.3088381,\n",
       "  3.3504748,\n",
       "  1.3745635,\n",
       "  -0.5500072,\n",
       "  -0.31475353,\n",
       "  -0.15137407,\n",
       "  3.205763],\n",
       " [0.24472581,\n",
       "  2.260022,\n",
       "  -2.787719,\n",
       "  -0.6232641,\n",
       "  0.058570813,\n",
       "  -3.7465308,\n",
       "  -0.5355184,\n",
       "  -0.65951234,\n",
       "  0.20009017,\n",
       "  -0.6320015],\n",
       " [-1.142671,\n",
       "  -5.552374,\n",
       "  -0.12885964,\n",
       "  -3.1355488,\n",
       "  5.371101,\n",
       "  2.6567912,\n",
       "  0.90543926,\n",
       "  -2.4448984,\n",
       "  1.1411144,\n",
       "  1.3279724],\n",
       " [0.0045407205,\n",
       "  1.3034388,\n",
       "  0.34896448,\n",
       "  -1.8142765,\n",
       "  0.9013826,\n",
       "  -0.06892264,\n",
       "  -0.93938184,\n",
       "  -0.41209158,\n",
       "  0.8714419,\n",
       "  1.9205191],\n",
       " [0.0, 0.0, 0.0, 0.0, 0.0, 0.0, 0.0, 0.0, 0.0, 0.0],\n",
       " [0.0, 0.0, 0.0, 0.0, 0.0, 0.0, 0.0, 0.0, 0.0, 0.0]]"
      ]
     },
     "execution_count": 20,
     "metadata": {},
     "output_type": "execute_result"
    }
   ],
   "source": [
    "train['que1_word_embeddings'].iloc[2][::-1]"
   ]
  },
  {
   "cell_type": "code",
   "execution_count": 21,
   "metadata": {},
   "outputs": [
    {
     "data": {
      "text/plain": [
       "(4340,)"
      ]
     },
     "execution_count": 21,
     "metadata": {},
     "output_type": "execute_result"
    }
   ],
   "source": [
    "train['que1_word_embeddings'].shape"
   ]
  },
  {
   "cell_type": "code",
   "execution_count": 22,
   "metadata": {},
   "outputs": [],
   "source": [
    "que1_word_embeddings=list(train['que1_word_embeddings'])"
   ]
  },
  {
   "cell_type": "code",
   "execution_count": 23,
   "metadata": {},
   "outputs": [
    {
     "data": {
      "text/plain": [
       "4340"
      ]
     },
     "execution_count": 23,
     "metadata": {},
     "output_type": "execute_result"
    }
   ],
   "source": [
    "len(que1_word_embeddings)"
   ]
  },
  {
   "cell_type": "code",
   "execution_count": 24,
   "metadata": {},
   "outputs": [
    {
     "data": {
      "text/plain": [
       "12"
      ]
     },
     "execution_count": 24,
     "metadata": {},
     "output_type": "execute_result"
    }
   ],
   "source": [
    "len(que1_word_embeddings[0]) # maximum question length is 12 if not 12 then padded with 0"
   ]
  },
  {
   "cell_type": "code",
   "execution_count": 25,
   "metadata": {},
   "outputs": [
    {
     "data": {
      "text/plain": [
       "10"
      ]
     },
     "execution_count": 25,
     "metadata": {},
     "output_type": "execute_result"
    }
   ],
   "source": [
    "len(que1_word_embeddings[0][0])"
   ]
  },
  {
   "cell_type": "code",
   "execution_count": 26,
   "metadata": {},
   "outputs": [],
   "source": [
    "questions_cols = ['que1_word_embeddings','que2_word_embeddings']"
   ]
  },
  {
   "cell_type": "code",
   "execution_count": 27,
   "metadata": {},
   "outputs": [
    {
     "data": {
      "text/plain": [
       "7       [[0.0, 0.0, 0.0, 0.0, 0.0, 0.0, 0.0, 0.0, 0.0,...\n",
       "8       [[0.0, 0.0, 0.0, 0.0, 0.0, 0.0, 0.0, 0.0, 0.0,...\n",
       "9       [[0.0, 0.0, 0.0, 0.0, 0.0, 0.0, 0.0, 0.0, 0.0,...\n",
       "11      [[0.0, 0.0, 0.0, 0.0, 0.0, 0.0, 0.0, 0.0, 0.0,...\n",
       "12      [[0.0, 0.0, 0.0, 0.0, 0.0, 0.0, 0.0, 0.0, 0.0,...\n",
       "                              ...                        \n",
       "9988    [[0.0, 0.0, 0.0, 0.0, 0.0, 0.0, 0.0, 0.0, 0.0,...\n",
       "9992    [[0.0, 0.0, 0.0, 0.0, 0.0, 0.0, 0.0, 0.0, 0.0,...\n",
       "9993    [[0.0, 0.0, 0.0, 0.0, 0.0, 0.0, 0.0, 0.0, 0.0,...\n",
       "9994    [[0.0, 0.0, 0.0, 0.0, 0.0, 0.0, 0.0, 0.0, 0.0,...\n",
       "9998    [[0.0, 0.0, 0.0, 0.0, 0.0, 0.0, 0.0, 0.0, 0.0,...\n",
       "Name: que1_word_embeddings, Length: 4340, dtype: object"
      ]
     },
     "execution_count": 27,
     "metadata": {},
     "output_type": "execute_result"
    }
   ],
   "source": [
    "train['que1_word_embeddings']"
   ]
  },
  {
   "cell_type": "code",
   "execution_count": 28,
   "metadata": {},
   "outputs": [],
   "source": [
    "from sklearn.model_selection import train_test_split\n",
    "validation_size = 10000   # validation samples size\n",
    "training_size = len(train) - validation_size\n",
    "\n",
    "X = train[questions_cols]\n",
    "Y = train['is_duplicate']\n",
    "X_train, X_validation, Y_train, Y_validation = train_test_split(X, Y, test_size=0.20)   # spiliting the validation set from training set"
   ]
  },
  {
   "cell_type": "code",
   "execution_count": 29,
   "metadata": {},
   "outputs": [
    {
     "data": {
      "text/plain": [
       "(4340, 12)"
      ]
     },
     "execution_count": 29,
     "metadata": {},
     "output_type": "execute_result"
    }
   ],
   "source": [
    "train.shape"
   ]
  },
  {
   "cell_type": "code",
   "execution_count": 30,
   "metadata": {},
   "outputs": [
    {
     "data": {
      "text/plain": [
       "(3472, 2)"
      ]
     },
     "execution_count": 30,
     "metadata": {},
     "output_type": "execute_result"
    }
   ],
   "source": [
    "X_train.shape "
   ]
  },
  {
   "cell_type": "code",
   "execution_count": 31,
   "metadata": {},
   "outputs": [
    {
     "data": {
      "text/plain": [
       "(868, 2)"
      ]
     },
     "execution_count": 31,
     "metadata": {},
     "output_type": "execute_result"
    }
   ],
   "source": [
    "X_validation.shape"
   ]
  }
 ],
 "metadata": {
  "kernelspec": {
   "display_name": "Python 3",
   "language": "python",
   "name": "python3"
  },
  "language_info": {
   "codemirror_mode": {
    "name": "ipython",
    "version": 3
   },
   "file_extension": ".py",
   "mimetype": "text/x-python",
   "name": "python",
   "nbconvert_exporter": "python",
   "pygments_lexer": "ipython3",
   "version": "3.7.3"
  }
 },
 "nbformat": 4,
 "nbformat_minor": 4
}
